{
 "cells": [
  {
   "cell_type": "markdown",
   "id": "812c5265",
   "metadata": {},
   "source": [
    "1. Crear una función llamada imprimir_hola_mundo que imprima por\n",
    "pantalla el mensaje: “Hola Mundo!”. Llamar a esta función desde el\n",
    "programa principal."
   ]
  },
  {
   "cell_type": "code",
   "execution_count": null,
   "id": "f4cbc47d",
   "metadata": {},
   "outputs": [],
   "source": [
    "# Ejercicio 1\n",
    "\n",
    "def imprimir_hola_mundo():\n",
    "    print (\"Hola Mundo!\")\n",
    "\n",
    "# Programa principal\n",
    "imprimir_hola_mundo()"
   ]
  },
  {
   "cell_type": "markdown",
   "id": "c4789ebb",
   "metadata": {},
   "source": [
    "2. Crear una función llamada saludar_usuario(nombre) que reciba\n",
    "como parámetro un nombre y devuelva un saludo personalizado.\n",
    "Por ejemplo, si se llama con saludar_usuario(\"Marcos\"), deberá devolver: “Hola Marcos!”. Llamar a esta función desde el programa\n",
    "principal solicitando el nombre al usuario."
   ]
  },
  {
   "cell_type": "code",
   "execution_count": null,
   "id": "80ed7d9c",
   "metadata": {},
   "outputs": [],
   "source": [
    "# Ejercicio 2\n",
    "\n",
    "def saludar_usuario(nombre):\n",
    "    print (f\"Hola {nombre}!\")\n",
    "\n",
    "# Programa principal\n",
    "nombre = input(\"Ingrese su nombre: \")\n",
    "saludar_usuario(nombre)"
   ]
  },
  {
   "cell_type": "markdown",
   "id": "119a5e9d",
   "metadata": {},
   "source": [
    "3. Crear una función llamada informacion_personal(nombre, apellido,\n",
    "edad, residencia) que reciba cuatro parámetros e imprima: “Soy\n",
    "[nombre] [apellido], tengo [edad] años y vivo en [residencia]”. Pedir los datos al usuario y llamar a esta función con los valores ingresados."
   ]
  },
  {
   "cell_type": "code",
   "execution_count": null,
   "id": "77399613",
   "metadata": {},
   "outputs": [],
   "source": [
    "# Ejercicio 3\n",
    "\n",
    "def informacion_personal(nombre, apellido, edad, residencia):\n",
    "    print(f\"Soy {nombre} {apellido}, tengo {edad} años y vivo en {residencia}\")\n",
    "\n",
    "# Programa Principal\n",
    "print(\"Bienvenido, por favor complete los siguientes datos.\")\n",
    "nombre = input(\"Nombre: \")\n",
    "apellido = input(\"Apellido: \")\n",
    "edad = input(\"Edad: \")\n",
    "residencia = input(\"Residencia: \")\n",
    "\n",
    "informacion_personal(nombre, apellido, edad, residencia)"
   ]
  },
  {
   "cell_type": "markdown",
   "id": "d321f6c8",
   "metadata": {},
   "source": [
    "4. Crear dos funciones: calcular_area_circulo(radio) que reciba el radio como parámetro y devuelva el área del círculo. calcular_perimetro_circulo(radio) que reciba el radio como parámetro y devuelva el perímetro del círculo. Solicitar el radio al usuario y llamar ambas funciones para mostrar los resultados."
   ]
  },
  {
   "cell_type": "code",
   "execution_count": null,
   "id": "bc04948c",
   "metadata": {},
   "outputs": [],
   "source": [
    "# Ejercicio 4\n",
    "\n",
    "import math # Para poder usar pi\n",
    "\n",
    "def calcular_area_circulo(radio):\n",
    "    area = math.pi * (radio**2)\n",
    "    return area\n",
    "\n",
    "def calcular_perimetro_circulo(radio):\n",
    "    perimetro = 2 * math.pi * radio\n",
    "    return perimetro\n",
    "\n",
    "# Programa principal\n",
    "radio = float(input(\"Ingrese el radio de un circulo para calcular su area y su perimetro: \"))\n",
    "\n",
    "#(:.2f) es una alternativa para mostrar los decimales que queramos, esta nos deja personalizar y mostrar el decimal exacto, otra puede ser round (redondea los decimales)\n",
    "print(f\"El area es de {calcular_area_circulo(radio):.2f} y su perimetro es de {calcular_perimetro_circulo(radio):.2f}\") "
   ]
  },
  {
   "cell_type": "markdown",
   "id": "299bce6d",
   "metadata": {},
   "source": [
    "5. Crear una función llamada segundos_a_horas(segundos) que reciba\n",
    "una cantidad de segundos como parámetro y devuelva la cantidad\n",
    "de horas correspondientes. Solicitar al usuario los segundos y mostrar el resultado usando esta función."
   ]
  },
  {
   "cell_type": "code",
   "execution_count": null,
   "id": "c9f3b0dd",
   "metadata": {},
   "outputs": [],
   "source": [
    "# Ejercicio 5\n",
    "\n",
    "def segundos_a_horas(segundos):\n",
    "    horas = segundos/3600\n",
    "    return horas\n",
    "\n",
    "# Programa principal\n",
    "segundos = int(input(\"Ingrese la cantidad de segundos para pasar a horas: \"))\n",
    "\n",
    "print(f\"{segundos} es equivalente a {segundos_a_horas(segundos):.2f} hora/s\")"
   ]
  },
  {
   "cell_type": "markdown",
   "id": "5547a835",
   "metadata": {},
   "source": [
    "6. Crear una función llamada tabla_multiplicar(numero) que reciba un\n",
    "número como parámetro y imprima la tabla de multiplicar de ese\n",
    "número del 1 al 10. Pedir al usuario el número y llamar a la función."
   ]
  },
  {
   "cell_type": "code",
   "execution_count": null,
   "id": "b765b0ac",
   "metadata": {},
   "outputs": [],
   "source": [
    "# Ejercicio 6\n",
    "\n",
    "def tabla_multiplicar(numero):\n",
    "    for i in range(1,11):\n",
    "        print(f\"{i} X {numero} = {i * numero}\")\n",
    "\n",
    "# Programa principal\n",
    "numero = int(input(\"Ingrese un numero el cual quiera ver su tabla de multiplicar: \"))\n",
    "\n",
    "tabla_multiplicar(numero)"
   ]
  },
  {
   "cell_type": "markdown",
   "id": "aa4cd819",
   "metadata": {},
   "source": [
    "7. Crear una función llamada operaciones_basicas(a, b) que reciba\n",
    "dos números como parámetros y devuelva una tupla con el resultado de sumarlos, restarlos, multiplicarlos y dividirlos. Mostrar los resultados de forma clara."
   ]
  },
  {
   "cell_type": "code",
   "execution_count": null,
   "id": "4e4970fe",
   "metadata": {},
   "outputs": [],
   "source": [
    "# Ejercicio 7\n",
    "\n",
    "def operaciones_basicas(a, b):\n",
    "    suma = a + b\n",
    "    resta = a - b\n",
    "    multiplicacion = a * b\n",
    "    if b != 0:\n",
    "        division = a / b\n",
    "    else:\n",
    "        division = None # None con N mayuscula\n",
    "\n",
    "    return (suma, resta, multiplicacion, division)\n",
    "\n",
    "# Programa principal\n",
    "a = float(input(\"Ingrese el primer número: \"))\n",
    "b = float(input(\"Ingrese el segundo número: \"))\n",
    "\n",
    "# descomprimir tupla\n",
    "suma, resta, multiplicacion, division = operaciones_basicas(a, b)\n",
    "print(f\"Suma: {suma}\")\n",
    "print(f\"Resta: {resta}\")\n",
    "print(f\"Multiplicación: {multiplicacion}\")\n",
    "if division != None:\n",
    "    print(f\"división: {division}\") \n",
    "else:\n",
    "    print(\"No se puede dividi por cero.\")"
   ]
  },
  {
   "cell_type": "markdown",
   "id": "70d9b67a",
   "metadata": {},
   "source": [
    "8. Crear una función llamada calcular_imc(peso, altura) que reciba el\n",
    "peso en kilogramos y la altura en metros, y devuelva el índice de\n",
    "masa corporal (IMC). Solicitar al usuario los datos y llamar a la función para mostrar el resultado con dos decimales."
   ]
  },
  {
   "cell_type": "code",
   "execution_count": null,
   "id": "7b2d82a3",
   "metadata": {},
   "outputs": [],
   "source": [
    "# Ejercicio 8\n",
    "\n",
    "def calcular_imc(peso, altura):\n",
    "    imc = peso / (altura ** 2)\n",
    "    return imc\n",
    "\n",
    "\n",
    "# Programa principal    \n",
    "print(\"Calculemos su IMC\")\n",
    "peso = int(input(\"Ingrese su peso(Kg): \"))\n",
    "altura = float(input(\"Ingrese su altura(m): \"))\n",
    "\n",
    "print(f\"Su indice de masa corporal es: {calcular_imc(peso, altura):.2f}\")"
   ]
  },
  {
   "cell_type": "markdown",
   "id": "cd77bf3b",
   "metadata": {},
   "source": [
    "9. Crear una función llamada celsius_a_fahrenheit(celsius) que reciba\n",
    "una temperatura en grados Celsius y devuelva su equivalente en\n",
    "Fahrenheit. Pedir al usuario la temperatura en Celsius y mostrar el\n",
    "resultado usando la función."
   ]
  },
  {
   "cell_type": "code",
   "execution_count": null,
   "id": "44203686",
   "metadata": {},
   "outputs": [],
   "source": [
    "# Ejercicio 9\n",
    "\n",
    "def celsius_a_fahrenheit(celsius):\n",
    "    fahrenheit = (celsius * 9/5) + 32 # Formula para calcular cel a far\n",
    "    return fahrenheit\n",
    "\n",
    "# Programa principal\n",
    "celsius = float(input(\"Ingrese una temperatura en °C para convertirla a °F\"))\n",
    "print(f\"{celsius}°C es igual a {celsius_a_fahrenheit(celsius)}°F\")"
   ]
  },
  {
   "cell_type": "markdown",
   "id": "6c70ff3e",
   "metadata": {},
   "source": [
    "10. Crear una función llamada calcular_promedio(a, b, c) que reciba\n",
    "tres números como parámetros y devuelva el promedio de ellos.\n",
    "Solicitar los números al usuario y mostrar el resultado usando esta\n",
    "función."
   ]
  },
  {
   "cell_type": "code",
   "execution_count": null,
   "id": "2d788c10",
   "metadata": {},
   "outputs": [],
   "source": [
    "# Ejercicio 10\n",
    "\n",
    "def calcular_promedio(a, b, c):\n",
    "    promedio = (a + b + c) / 3\n",
    "    return promedio\n",
    "\n",
    "# Programa principal\n",
    "print(\"Ingrese 3 numeros para calcular su promedio\")\n",
    "a = float(input(\"Ingrese el primero: \"))\n",
    "b = float(input(\"Ingrese el segundoo: \"))\n",
    "c = float(input(\"Ingrese el tercero: \"))\n",
    "\n",
    "print(f\"El promedio de {a, b ,c} es {calcular_promedio(a, b ,c)}\")"
   ]
  }
 ],
 "metadata": {
  "kernelspec": {
   "display_name": "Python 3",
   "language": "python",
   "name": "python3"
  },
  "language_info": {
   "codemirror_mode": {
    "name": "ipython",
    "version": 3
   },
   "file_extension": ".py",
   "mimetype": "text/x-python",
   "name": "python",
   "nbconvert_exporter": "python",
   "pygments_lexer": "ipython3",
   "version": "3.13.5"
  }
 },
 "nbformat": 4,
 "nbformat_minor": 5
}
