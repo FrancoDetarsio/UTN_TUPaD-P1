{
 "cells": [
  {
   "cell_type": "markdown",
   "id": "522089a3",
   "metadata": {},
   "source": [
    "Trabajo Practico 4\n",
    "\n",
    "Alumno: Franco Detarsio"
   ]
  },
  {
   "cell_type": "markdown",
   "id": "dc254fdf",
   "metadata": {},
   "source": [
    "1) Crea un programa que imprima en pantalla todos los números enteros desde 0 hasta 100\n",
    "(incluyendo ambos extremos), en orden creciente, mostrando un número por línea."
   ]
  },
  {
   "cell_type": "code",
   "execution_count": null,
   "id": "5c2aedf2",
   "metadata": {},
   "outputs": [],
   "source": [
    "# Ejercicio 1\n",
    "\n",
    "for i in range(101): # hasta 101 porque no es inclusive.\n",
    "    print(i)"
   ]
  },
  {
   "cell_type": "markdown",
   "id": "74488d35",
   "metadata": {},
   "source": [
    "2) Desarrolla un programa que solicite al usuario un número entero y determine la cantidad de\n",
    "dígitos que contiene."
   ]
  },
  {
   "cell_type": "code",
   "execution_count": null,
   "id": "a18eb9f3",
   "metadata": {},
   "outputs": [],
   "source": [
    "# Ejercicio 2\n",
    "\n",
    "digitos = 0\n",
    "\n",
    "num = int(input(\"Ingrese un numero entero: \"))\n",
    "num = abs(num) #en caso de que ingresen negativo lo convertimos en positivo\n",
    "\n",
    "if num == 0:\n",
    "    digitos = 1\n",
    "\n",
    "while num != 0:\n",
    "    digitos +=1\n",
    "    num = num // 10 # Dejo la parte entera y descuento de a 1 digito por vuelta\n",
    "\n",
    "print(f\"la cantidad de digitos es {digitos}\")"
   ]
  },
  {
   "cell_type": "markdown",
   "id": "71f167d6",
   "metadata": {},
   "source": [
    "3) Escribe un programa que sume todos los números enteros comprendidos entre dos valores\n",
    "dados por el usuario, excluyendo esos dos valores."
   ]
  },
  {
   "cell_type": "code",
   "execution_count": null,
   "id": "bea21f32",
   "metadata": {},
   "outputs": [],
   "source": [
    "# Ejercicio 3\n",
    "\n",
    "suma = 0\n",
    "num1 = int(input(\"Ingrese un número: \"))\n",
    "num2 = int(input(\"Ingrese otro número: \"))\n",
    "\n",
    "for i in range ((num1 + 1),num2):\n",
    "    suma += i\n",
    "\n",
    "print(f\"La suma de los numeros comprendidos entre {num1} y {num2} es: {suma}\")"
   ]
  },
  {
   "cell_type": "markdown",
   "id": "ecd9b067",
   "metadata": {},
   "source": [
    "4) Elabora un programa que permita al usuario ingresar números enteros y los sume en\n",
    "secuencia. El programa debe detenerse y mostrar el total acumulado cuando el usuario ingrese\n",
    "un 0"
   ]
  },
  {
   "cell_type": "code",
   "execution_count": null,
   "id": "7e68a979",
   "metadata": {},
   "outputs": [],
   "source": [
    "# Ejercicio 4\n",
    "\n",
    "num = float(input(\"Ingrese un número o ingrese 0 para finalizar: \")) # pongo float para que el usuario pueda ingresar cualquier numero que quiera\n",
    "suma = 0\n",
    "\n",
    "while num != 0:\n",
    "    suma += num\n",
    "    num = float(input(\"Ingrese otro número o ingrese 0 para finalizar: \"))\n",
    "\n",
    "if suma != 0:\n",
    "    print(f\"la suma total de los valores ingresados es: {suma}\")\n",
    "else:\n",
    "    print(\"Proceso finalizado\")"
   ]
  },
  {
   "cell_type": "markdown",
   "id": "450758b8",
   "metadata": {},
   "source": [
    "5) Crea un juego en el que el usuario deba adivinar un número aleatorio entre 0 y 9. Al final, el\n",
    "programa debe mostrar cuántos intentos fueron necesarios para acertar el número."
   ]
  },
  {
   "cell_type": "code",
   "execution_count": null,
   "id": "5bb39e34",
   "metadata": {},
   "outputs": [],
   "source": [
    "# Ejercicio 5\n",
    "\n",
    "import random # debemos importarla para poder usarla\n",
    "\n",
    "num_usuario = int(input(\"Adivine un número aleatorio del 0 al 9\"))\n",
    "num_aleatorio = random.randint(0,9) # importamos y usamos este comando para asignar un valor aleatorio a la variable\n",
    "intento = 1\n",
    "\n",
    "while num_usuario != num_aleatorio:\n",
    "    intento +=1\n",
    "    num_usuario = int(input(\"Ups ese no es, Intente nuevamente!\"))\n",
    "\n",
    "print(f\"para adivinar que el número era {num_aleatorio} te tomó {intento} intento/s.\")"
   ]
  },
  {
   "cell_type": "markdown",
   "id": "64df07ca",
   "metadata": {},
   "source": [
    "6) Desarrolla un programa que imprima en pantalla todos los números pares comprendidos\n",
    "entre 0 y 100, en orden decreciente."
   ]
  },
  {
   "cell_type": "code",
   "execution_count": null,
   "id": "44fe6e9b",
   "metadata": {},
   "outputs": [],
   "source": [
    "# Ejercicio 6\n",
    "\n",
    "for i in range(100,-1,-2):\n",
    "    print(i)"
   ]
  },
  {
   "cell_type": "markdown",
   "id": "bc9d3541",
   "metadata": {},
   "source": [
    "7) Crea un programa que calcule la suma de todos los números comprendidos entre 0 y un\n",
    "número entero positivo indicado por el usuario"
   ]
  },
  {
   "cell_type": "code",
   "execution_count": null,
   "id": "f01e476c",
   "metadata": {},
   "outputs": [],
   "source": [
    "# Ejercicio 7\n",
    "\n",
    "num = int(input(\"Ingrese un numero entero: \"))\n",
    "suma = 0\n",
    "\n",
    "for i in range(num+1): # +1 para agregarlo a la suma\n",
    "    suma += i\n",
    "\n",
    "print(f\"La suma entre todos los numeros entre 0 y {num} es: {suma}\")"
   ]
  },
  {
   "cell_type": "markdown",
   "id": "b9635641",
   "metadata": {},
   "source": [
    "8) Escribe un programa que permita al usuario ingresar 100 números enteros. Luego, el\n",
    "programa debe indicar cuántos de estos números son pares, cuántos son impares, cuántos son\n",
    "negativos y cuántos son positivos. (Nota: para probar el programa puedes usar una cantidad\n",
    "menor, pero debe estar preparado para procesar 100 números con un solo cambio)."
   ]
  },
  {
   "cell_type": "code",
   "execution_count": null,
   "id": "018dd554",
   "metadata": {},
   "outputs": [],
   "source": [
    "# Ejercicio 8\n",
    "\n",
    "par = 0\n",
    "impar = 0\n",
    "positivo = 0\n",
    "negativo = 0\n",
    "\n",
    "for i in range(101):\n",
    "    num = int(input(\"Ingrese un numero: \"))\n",
    "\n",
    "    if (num % 2) == 0: \n",
    "        par += 1\n",
    "    else:\n",
    "        impar +=1\n",
    "\n",
    "    if num >= 0:\n",
    "        positivo += 1\n",
    "    else:\n",
    "        negativo -= 1\n",
    "\n",
    "print(f\"Resultados:\\nPares: {par}\\nInpares: {impar}\\nPositivos: {positivo}\\nNegativos {negativo}\")"
   ]
  },
  {
   "cell_type": "markdown",
   "id": "64aed789",
   "metadata": {},
   "source": [
    "9) Elabora un programa que permita al usuario ingresar 100 números enteros y luego calcule la\n",
    "media de esos valores. (Nota: puedes probar el programa con una cantidad menor, pero debe\n",
    "poder procesar 100 números cambiando solo un valor)."
   ]
  },
  {
   "cell_type": "code",
   "execution_count": null,
   "id": "fb8d5fd0",
   "metadata": {},
   "outputs": [],
   "source": [
    "# Ejercicio 9\n",
    "\n",
    "suma = 0\n",
    "\n",
    "for i in range(100):\n",
    "    num = int(input(\"Ingrese numero tras numero para calcular su media: \"))\n",
    "    suma += num\n",
    "\n",
    "print(f\"La media de los valores ingresados es: {suma/100}\")"
   ]
  },
  {
   "cell_type": "markdown",
   "id": "87a12fb8",
   "metadata": {},
   "source": [
    "10) Escribe un programa que invierta el orden de los dígitos de un número ingresado por el\n",
    "usuario. Ejemplo: si el usuario ingresa 547, el programa debe mostrar 745."
   ]
  },
  {
   "cell_type": "code",
   "execution_count": null,
   "id": "b11c31f0",
   "metadata": {},
   "outputs": [],
   "source": [
    "# Ejercicio 10\n",
    "\n",
    "num = int(input(\"ingrese un numero para invertir sus digitos: \"))\n",
    "num = abs(num)\n",
    "\n",
    "invertido = \"\" # inicializada con \"\" para despues poder sumarle los digitos\n",
    "\n",
    "while num != 0:\n",
    "    digito = str(num % 10) # obtengo el resto q es el ult digito y lo paso a string para ir sumandolos en cada vuelta\n",
    "    num = num // 10 #actualizo el valor de num para el siguiente resto\n",
    "    invertido += digito # sumo las cadenas\n",
    "\n",
    "print(invertido)"
   ]
  },
  {
   "cell_type": "markdown",
   "id": "dc3689a1",
   "metadata": {},
   "source": [
    "Gracias profe por las Devoluciones!"
   ]
  }
 ],
 "metadata": {
  "kernelspec": {
   "display_name": "Python 3",
   "language": "python",
   "name": "python3"
  },
  "language_info": {
   "codemirror_mode": {
    "name": "ipython",
    "version": 3
   },
   "file_extension": ".py",
   "mimetype": "text/x-python",
   "name": "python",
   "nbconvert_exporter": "python",
   "pygments_lexer": "ipython3",
   "version": "3.13.5"
  }
 },
 "nbformat": 4,
 "nbformat_minor": 5
}
