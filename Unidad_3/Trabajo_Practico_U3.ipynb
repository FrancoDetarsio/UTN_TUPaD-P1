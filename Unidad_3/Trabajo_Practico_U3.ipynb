{
 "cells": [
  {
   "cell_type": "code",
   "execution_count": null,
   "id": "864ffb01",
   "metadata": {},
   "outputs": [],
   "source": [
    "# Trabajo Practico Estructuras Condicionales Unidad_3\n",
    "# Alumno: Franco Detarsio\n",
    "\n",
    "# Ejercicio 1\n",
    "\n",
    "edad = int(input(\"Ingrese su edad: \"))\n",
    "\n",
    "if edad >= 18:\n",
    "    print(\"Eres mayor de edad!\")\n",
    "else:\n",
    "    print(\"No eres mayor de edad.\")"
   ]
  },
  {
   "cell_type": "code",
   "execution_count": null,
   "id": "832caa81",
   "metadata": {},
   "outputs": [],
   "source": [
    "# Ejercicio 2\n",
    "\n",
    "nota = float(input(\"Ingrese su nota: \"))\n",
    "\n",
    "if nota >= 6:\n",
    "    print(\"Aprobado\")\n",
    "else:\n",
    "    print(\"Desaprobado\")"
   ]
  },
  {
   "cell_type": "code",
   "execution_count": null,
   "id": "cabdb834",
   "metadata": {},
   "outputs": [],
   "source": [
    "# Ejercicio 3\n",
    "\n",
    "num = int(input(\"Ingrese un numero entero y veamos si es par: \"))\n",
    "\n",
    "if (num % 2) == 0:\n",
    "    print(f\"{num} es par!\")\n",
    "else:\n",
    "    print(f\"{num} es impar!\")"
   ]
  },
  {
   "cell_type": "code",
   "execution_count": null,
   "id": "7ac51b98",
   "metadata": {},
   "outputs": [],
   "source": [
    "# Ejercicio 4\n",
    "edad = int(input(\"Ingrese su edad: \"))\n",
    "\n",
    "if edad >= 0 and edad < 12:\n",
    "    print(\"Pertenece a la categoría Niño/a.\")\n",
    "elif edad >= 12 and edad < 18:\n",
    "    print(\"Pertenece a la categoría Adolescente.\")\n",
    "elif edad >= 18 and edad < 30:\n",
    "    print(\"Pertenece a la categoría Adulto/a joven.\")\n",
    "elif edad >= 30 and edad < 130:\n",
    "    print(\"Pertenece a la categoría Adulto/a.\")\n",
    "else:\n",
    "    print(\"Por favor ingrese una edad valida.\")"
   ]
  },
  {
   "cell_type": "code",
   "execution_count": null,
   "id": "72496ee6",
   "metadata": {},
   "outputs": [],
   "source": [
    "# Ejercicio 5\n",
    "\n",
    "contrasena = input(\"Ingrese una contraseña entre 8 y 14 caracteres: \")\n",
    "\n",
    "if (len(contrasena) >= 8) and (len(contrasena) <= 14):\n",
    "    print(\"Ha ingresado una contraseña correcta\")\n",
    "else:\n",
    "    print(\"Por favor, ingrese una contraseña de entre 8 y 14 caracteres\")"
   ]
  },
  {
   "cell_type": "code",
   "execution_count": null,
   "id": "e33f752b",
   "metadata": {},
   "outputs": [],
   "source": [
    "# Ejercicio 6\n",
    "\n",
    "# desde statistics importamos las 3 medidas\n",
    "# Moda (mode): lo que más se repite.\n",
    "# Mediana (median): el valor del medio al ordenar.\n",
    "# Media (mean): el promedio.\n",
    "\n",
    "from statistics import mode, median, mean\n",
    "\n",
    "# Para crear una lista que genere numeros aleatorios importamos random\n",
    "\n",
    "import random\n",
    "\n",
    "# le damos un rango de 50 entre el 1 y 100, y usamos [,] para crear lista\n",
    "\n",
    "num_al = [random.randint(1, 100) for i in range (50)] \n",
    "\n",
    "# -Sesgo positivo o a la derecha: cuando la media es mayor que la mediana y, a su vez, la\n",
    "# mediana es mayor que la moda.\n",
    "# -Sesgo negativo o a la izquierda: cuando la media es menor que la mediana y, a su vez,\n",
    "# la mediana es menor que la moda.\n",
    "# -Sin sesgo: cuando la media, la mediana y la moda son iguales\n",
    "\n",
    "if (mean(num_al) == median(num_al)) and (median(num_al) == mode(num_al)):\n",
    "    print(f\"La media es de {mean(num_al)}\\nLa Mediana es de {median(num_al)}\\nLa moda es de {mode(num_al)}\\nPor ende No tenemos Sesgo porque son iguales.\") # \\n para hacer salto\n",
    "elif (mean(num_al) > median(num_al)) and (median(num_al) > mode(num_al)):\n",
    "    print(f\"La media es de {mean(num_al)}\\nLa Mediana es de {median(num_al)}\\nLa moda es de {mode(num_al)}\\nPor ende tenemos un Sesgo Positivo.\")\n",
    "elif (mean(num_al) < median(num_al)) and (median(num_al) < mode(num_al)):\n",
    "    print(f\"La media es de {mean(num_al)}\\nLa Mediana es de {median(num_al)}\\nLa moda es de {mode(num_al)}\\nPor ende tenemos un Sesgo Negativo.\")\n",
    "else:\n",
    "    print(f\"La media es de {mean(num_al)}\\nLa Mediana es de {median(num_al)}\\nLa moda es de {mode(num_al)}\\nNo se cumple condicion de Sesgo\")"
   ]
  },
  {
   "cell_type": "code",
   "execution_count": null,
   "id": "9f392752",
   "metadata": {},
   "outputs": [],
   "source": [
    "# Ejercicio 7\n",
    "\n",
    "palabra = input(\"Ingrese una frase o palabra: \").lower() # .lower() para convertir el string en minuscula\n",
    "\n",
    "ult = palabra[-1] # Selecciono el ultimo caracter\n",
    "\n",
    "if ult == \"a\" or ult == \"e\" or ult == \"i\" or ult == \"o\" or ult == \"u\":\n",
    "    print(f\"{palabra}!\")\n",
    "else:\n",
    "    print(palabra)"
   ]
  },
  {
   "cell_type": "code",
   "execution_count": null,
   "id": "b784212a",
   "metadata": {},
   "outputs": [],
   "source": [
    "# Ejercicio 8\n",
    "\n",
    "nombre = input(\"Ingrese su nombre: \")\n",
    "\n",
    "num = int(input(\"\"\"Ingrese el numero de la operacion que quiera realizar:\n",
    "1. Si quiere su nombre en mayúsculas.\n",
    "2. Si quiere su nombre en minúsculas.\n",
    "3. Si quiere su nombre con la primera letra mayúscula\"\"\")) # usamos 3 (\"\"\") para poder hacer saltos\n",
    "\n",
    "if num == 1:\n",
    "    print(nombre.upper()) # usamos variable.upper() para convertir el string a todo mayuscula\n",
    "elif num == 2:\n",
    "    print(nombre.lower()) # variable.lower() para que sea todo minuscula\n",
    "elif num == 3:\n",
    "    print(nombre.title()) # variable.title() para que la primera letra de cada palabra sea mayuscula\n",
    "else:\n",
    "    print(\"Por favor Ingrese un valor valido.\")\n"
   ]
  },
  {
   "cell_type": "code",
   "execution_count": null,
   "id": "b7d26f52",
   "metadata": {},
   "outputs": [],
   "source": [
    "# Ejercicio 9\n",
    "\n",
    "mag = float(input(\"Ingrese la magnitud del terremoto: \"))\n",
    "\n",
    "if mag < 3:\n",
    "    print(\"\"\"\"Muy leve\" (imperceptible).\"\"\") # las 3 \"\"\" nos permiten un string literal, puedo printear \"\" dentro del string y que se muestre\n",
    "elif (mag >= 3) and (mag < 4):\n",
    "    print(\"\"\"\"Leve\" (ligeramente perceptible).\"\"\")\n",
    "elif (mag >= 4) and (mag < 5):\n",
    "    print(\"\"\"\"Moderado\" (sentido por personas, pero generalmente no causa daños).\"\"\")\n",
    "elif (mag >= 5) and (mag < 6):\n",
    "    print(\"\"\"\"Fuerte\" (puede causar daños en estructuras débiles).\"\"\")\n",
    "elif (mag >= 6) and (mag < 7):\n",
    "    print(\"\"\"\"Muy Fuerte\" (puede causar daños significativos).\"\"\")\n",
    "elif mag >= 7:\n",
    "    print(\"\"\"\"Extremo\" (puede causar graves daños a gran escala).\"\"\")\n"
   ]
  },
  {
   "cell_type": "code",
   "execution_count": null,
   "id": "d6168810",
   "metadata": {},
   "outputs": [],
   "source": [
    "# Ejercicio 10\n",
    "\n",
    "mes = int(input(\"Ingresa el mes: \"))\n",
    "dia = int(input(\"Ingrese el día: \"))\n",
    "hemis = input(\"Y el hemisferio en el que se encuentra (N/S): \").lower()\n",
    "\n",
    "if hemis == \"n\":\n",
    "    if (mes == 12) and (dia >= 21) or ((mes <= 3) and (dia <= 20)) or (mes == 1) or (mes == 2):\n",
    "        print(\"Invierno\")\n",
    "    elif ((mes == 3) and (dia <= 21)) or (mes == 4) or (mes == 5) or ((mes == 6) and (dia <= 20)):\n",
    "        print(\"Primavera\")\n",
    "    elif ((mes == 6) and (dia <= 21)) or (mes == 7) or (mes == 8) or ((mes == 9) and (dia <= 20)):\n",
    "        print(\"Verano\")\n",
    "    elif ((mes == 9) and (dia <= 21)) or (mes == 10) or (mes == 11) or ((mes == 12) and (dia <= 20)):\n",
    "        print(\"Otoño\")\n",
    "elif hemis == \"s\":\n",
    "    if (mes == 12) and (dia >= 21) or ((mes <= 3) and (dia <= 20)) or (mes == 1) or (mes == 2):\n",
    "        print(\"Verano\")\n",
    "    elif ((mes == 3) and (dia <= 21)) or (mes == 4) or (mes == 5) or ((mes == 6) and (dia <= 20)):\n",
    "        print(\"Otoño\")\n",
    "    elif ((mes == 6) and (dia <= 21)) or (mes == 7) or (mes == 8) or ((mes == 9) and (dia <= 20)):\n",
    "        print(\"Invierno\")\n",
    "    elif ((mes == 9) and (dia <= 21)) or (mes == 10) or (mes == 11) or ((mes == 12) and (dia <= 20)):\n",
    "        print(\"Primavera\")\n",
    "else:\n",
    "    print(\"Intente nuevamente.\")"
   ]
  }
 ],
 "metadata": {
  "kernelspec": {
   "display_name": "Python 3",
   "language": "python",
   "name": "python3"
  },
  "language_info": {
   "codemirror_mode": {
    "name": "ipython",
    "version": 3
   },
   "file_extension": ".py",
   "mimetype": "text/x-python",
   "name": "python",
   "nbconvert_exporter": "python",
   "pygments_lexer": "ipython3",
   "version": "3.13.5"
  }
 },
 "nbformat": 4,
 "nbformat_minor": 5
}
