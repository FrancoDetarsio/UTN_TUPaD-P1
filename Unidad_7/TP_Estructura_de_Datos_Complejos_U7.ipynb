{
 "cells": [
  {
   "cell_type": "markdown",
   "id": "ccde2359",
   "metadata": {},
   "source": [
    "1) Dado el diccionario precios_frutas\n",
    "\n",
    "precios_frutas = {'Banana': 1200, 'Ananá': 2500, 'Melón': 3000, 'Uva':\n",
    "1450}\n",
    "\n",
    "Añadir las siguientes frutas con sus respectivos precios:\n",
    "● Naranja = 1200\n",
    "● Manzana = 1500\n",
    "● Pera = 2300"
   ]
  },
  {
   "cell_type": "code",
   "execution_count": null,
   "id": "226e49ce",
   "metadata": {},
   "outputs": [],
   "source": [
    "# Ejercicio 1\n",
    "\n",
    "precios_frutas = {'Banana': 1200, 'Ananá': 2500, 'Melón': 3000, 'Uva':\n",
    "1450}\n",
    "\n",
    "precios_frutas['Naranja'] = 1200\n",
    "precios_frutas['Manzana'] = 1500\n",
    "precios_frutas['Pera'] = 2300\n",
    "\n",
    "for i, a in precios_frutas.items(): #.items() para que nos deje iterar\n",
    "    print(f\"● {i} = {a}\")\n"
   ]
  },
  {
   "cell_type": "markdown",
   "id": "ae8f4977",
   "metadata": {},
   "source": [
    "2) Siguiendo con el diccionario precios_frutas que resulta luego de ejecutar el código\n",
    "desarrollado en el punto anterior, actualizar los precios de las siguientes frutas:\n",
    "\n",
    "● Banana = 1330\n",
    "● Manzana = 1700\n",
    "● Melón = 2800"
   ]
  },
  {
   "cell_type": "code",
   "execution_count": null,
   "id": "e7ea23d7",
   "metadata": {},
   "outputs": [],
   "source": [
    "# Ejercicio 2\n",
    "\n",
    "precios_frutas = {'Banana': 1200, 'Ananá': 2500, 'Melón': 3000, 'Uva':\n",
    "1450}\n",
    "\n",
    "# Articulos agregados en ejercicio 1\n",
    "precios_frutas['Naranja'] = 1200\n",
    "precios_frutas['Manzana'] = 1500\n",
    "precios_frutas['Pera'] = 2300\n",
    "\n",
    "# Actualización de precios\n",
    "precios_frutas['Banana'] = 1330\n",
    "precios_frutas['Manzana'] = 1700\n",
    "precios_frutas['Melón'] = 2800\n",
    "\n",
    "\n",
    "for i, a in precios_frutas.items():\n",
    "    print(f\"● {i} = {a}\")"
   ]
  },
  {
   "cell_type": "markdown",
   "id": "9f6507c9",
   "metadata": {},
   "source": [
    "3) Siguiendo con el diccionario precios_frutas que resulta luego de ejecutar el código\n",
    "desarrollado en el punto anterior, crear una lista que contenga únicamente las frutas sin los\n",
    "precios."
   ]
  },
  {
   "cell_type": "code",
   "execution_count": null,
   "id": "f4f27b22",
   "metadata": {},
   "outputs": [],
   "source": [
    "# Ejercicio 3\n",
    "\n",
    "precios_frutas = {'Banana': 1200, 'Ananá': 2500, 'Melón': 3000, 'Uva':\n",
    "1450}\n",
    "\n",
    "# Articulos agregados en ejercicio 1\n",
    "precios_frutas['Naranja'] = 1200\n",
    "precios_frutas['Manzana'] = 1500\n",
    "precios_frutas['Pera'] = 2300\n",
    "\n",
    "# Actualización de precios\n",
    "precios_frutas['Banana'] = 1330\n",
    "precios_frutas['Manzana'] = 1700\n",
    "precios_frutas['Melón'] = 2800\n",
    "\n",
    "\n",
    "lista_frutas = list(precios_frutas.keys()) # list() para convertir a lista, .keys() para obtener las keys de el diccionario\n",
    "\n",
    "print(lista_frutas)"
   ]
  },
  {
   "cell_type": "markdown",
   "id": "d23ca6d2",
   "metadata": {},
   "source": [
    "4) Escribí un programa que permita almacenar y consultar números telefónicos.\n",
    "\n",
    "• Permití al usuario cargar 5 contactos con su nombre como clave y número como valor.\n",
    "• Luego, pedí un nombre y mostrale el número asociado, si existe."
   ]
  },
  {
   "cell_type": "code",
   "execution_count": null,
   "id": "ab890d26",
   "metadata": {},
   "outputs": [],
   "source": [
    "# Ejercicio 4\n",
    "\n",
    "contactos = {} # Inicialización del diccionario\n",
    "\n",
    "print(\"Registremos 5 nuevos contactos\")\n",
    "\n",
    "for i in range(1,6):\n",
    "    nombre = input(f\"Ingrese el nombre del {i}º Contacto:\")\n",
    "    numero = input(f\"Ingrese el numero del {i}º Contacto:\")\n",
    "    \n",
    "    contactos[nombre] = numero\n",
    "\n",
    "consul = input(\"Ingrese el nombre del contacto que quisiera consultar su número\")\n",
    "\n",
    "if consul in contactos:\n",
    "    print(f\"El número de {consul} es: {contactos[consul]}\")\n",
    "\n",
    "else:\n",
    "    print(f\"{consul} no se encuentra dentro de su lista de contactos.\")"
   ]
  },
  {
   "cell_type": "markdown",
   "id": "fc76c183",
   "metadata": {},
   "source": [
    "5) Solicita al usuario una frase e imprime:\n",
    "\n",
    "• Las palabras únicas (usando un set).\n",
    "• Un diccionario con la cantidad de veces que aparece cada palabra."
   ]
  },
  {
   "cell_type": "code",
   "execution_count": null,
   "id": "ca4a3a89",
   "metadata": {},
   "outputs": [],
   "source": [
    "# Ejercicio 5\n",
    "\n",
    "dic_frase = {}\n",
    "\n",
    "frase = input(\"Ingrese una frase: \")\n",
    "\n",
    "lista_frase = frase.split() # .split() separa las palabras y las convierte en una lista\n",
    "\n",
    "set_frase = set(lista_frase) # Pasamos lista a set\n",
    "\n",
    "print(f\"Palabras únicas: {set_frase}\")\n",
    "\n",
    "\n",
    "for i in set_frase: # uso el set para que no haya repetidos\n",
    "    cantidad = lista_frase.count(i) # obtenemos la cantidad de veces que aparece cada palabra dentro de la lista con .count() y el i de recorrido por el set\n",
    "\n",
    "    dic_frase[i] = cantidad # asignamos la cantidad en el diccionario usando el mismo i\n",
    "\n",
    "print(f\"Diccionario: {dic_frase}\")\n"
   ]
  },
  {
   "cell_type": "markdown",
   "id": "9916c582",
   "metadata": {},
   "source": [
    "6) Permití ingresar los nombres de 3 alumnos, y para cada uno una tupla de 3 notas.\n",
    "Luego, mostrá el promedio de cada alumno."
   ]
  },
  {
   "cell_type": "code",
   "execution_count": null,
   "id": "1f1c0731",
   "metadata": {},
   "outputs": [],
   "source": [
    "# Ejercicio 6\n",
    "\n",
    "alumnos = {}\n",
    "\n",
    "for i in range (1,4):\n",
    "    nombre = input(f\"Ingrese el nombre del {i}º estudiante: \")\n",
    "    n1 = int(input(\"Ingrese la primera nota: \"))\n",
    "    n2 = int(input(\"Ingrese la segunda nota: \"))\n",
    "    n3 = int(input(\"Ingrese la tercera nota: \"))\n",
    "\n",
    "    alumnos[nombre] = (n1, n2, n3)\n",
    "\n",
    "for i in alumnos.keys():\n",
    "    promedio = sum(alumnos[i]) / 3 # sum() permite sumar lo que este dentro de la tupla\n",
    "    print(f\"El promedio de {i} es: {promedio}\")"
   ]
  },
  {
   "cell_type": "markdown",
   "id": "fb43e600",
   "metadata": {},
   "source": [
    "7) Dado dos sets de números, representando dos listas de estudiantes que aprobaron Parcial 1\n",
    "y Parcial 2:\n",
    "\n",
    "• Mostrá los que aprobaron ambos parciales.\n",
    "• Mostrá los que aprobaron solo uno de los dos.\n",
    "• Mostrá la lista total de estudiantes que aprobaron al menos un parcial (sin repetir)"
   ]
  },
  {
   "cell_type": "code",
   "execution_count": null,
   "id": "5aee656a",
   "metadata": {},
   "outputs": [],
   "source": [
    "# Ejercicio 7\n",
    "\n",
    "set_1 = {1, 3, 4, 5, 8, 9}\n",
    "set_2 = {2, 3, 5, 7, 8, 9}\n",
    "\n",
    "ambos = set_1 & set_2\n",
    "uno = set_1 ^ set_2\n",
    "total = set_1 | set_2\n",
    "\n",
    "print(f\"los que aprobaron ambos parciales: {ambos}\")\n",
    "print(f\"los que aprobaron solo uno de los dos: {uno}\")\n",
    "print(f\"lista total de estudiantes que aprobaron al menos un parcial: {total}\")"
   ]
  },
  {
   "cell_type": "markdown",
   "id": "265a273c",
   "metadata": {},
   "source": [
    "8) Armá un diccionario donde las claves sean nombres de productos y los valores su stock.\n",
    "Permití al usuario:\n",
    "\n",
    "• Consultar el stock de un producto ingresado.\n",
    "• Agregar unidades al stock si el producto ya existe.\n",
    "• Agregar un nuevo producto si no existe."
   ]
  },
  {
   "cell_type": "code",
   "execution_count": null,
   "id": "486994fd",
   "metadata": {},
   "outputs": [],
   "source": [
    "# Ejercicio 8\n",
    "\n",
    "productos = {'celular': 10, 'notebook': 5, 'teclado': 8}\n",
    "\n",
    "consulta = input(\"Ingrese el nombre del producto que desee consultar stock: \").lower()\n",
    "\n",
    "if consulta in productos.keys():\n",
    "    print(f\"El stock de {consulta} es: {productos[consulta]}\")\n",
    "    n_stock = int(input(\"Ingrese la cantidad de unidades que quiera agregar: \"))\n",
    "    productos[consulta] += n_stock\n",
    "\n",
    "else:\n",
    "    print(f\"{consulta} no estaba en la lista.\")\n",
    "    n_stock = int(input(\"Ingrese la cantidad de unidades que quiera agregar: \"))\n",
    "    productos[consulta] = n_stock\n",
    "\n",
    "\n",
    "print(\"la lista actualizada Producto-Stock\\n===================================\")\n",
    "for i, a in productos.items():\n",
    "    print(f\"● {i} = {a}\")"
   ]
  },
  {
   "cell_type": "markdown",
   "id": "2565a200",
   "metadata": {},
   "source": [
    "9) Creá una agenda donde las claves sean tuplas de (día, hora) y los valores sean eventos.\n",
    "Permití consultar qué actividad hay en cierto día y hora."
   ]
  },
  {
   "cell_type": "code",
   "execution_count": null,
   "id": "ccd26b59",
   "metadata": {},
   "outputs": [],
   "source": [
    "# Ejercicio 9\n",
    "\n",
    "agenda = {('martes', '10:00'): \"Clase Arquitectura\", ('martes', '18:00'): \"Clase Organización\", ('miercoles', '15:00'): \"Clase Programación\", ('viernes', '16:00'): \"Clase Matemática\"}\n",
    "\n",
    "dia = input(\"Ingrese el día que quiera consultar actividad: \")\n",
    "hora = input(\"Ingrese la hora del día que consultó (en el siguiente formato = 00:00): \")\n",
    "\n",
    "if (dia, hora) in agenda.keys(): # verificamos que la clave exista\n",
    "    print(f\"El {dia} a las {hora} usted tiene la siguiente tarea: {agenda[(dia, hora)]}\") # si existe la llamamos para ver su valor usando agenda[(dia, hora)]\n",
    "else:\n",
    "    print(\"No tiene nada programado para esa hora ese día.\")"
   ]
  },
  {
   "cell_type": "markdown",
   "id": "488c1f2d",
   "metadata": {},
   "source": [
    "10) Dado un diccionario que mapea nombres de países con sus capitales, construí un nuevo\n",
    "diccionario donde:\n",
    "\n",
    "• Las capitales sean las claves.\n",
    "• Los países sean los valores"
   ]
  },
  {
   "cell_type": "code",
   "execution_count": null,
   "id": "134eb4fe",
   "metadata": {},
   "outputs": [],
   "source": [
    "# Ejercicio 10\n",
    "\n",
    "invertido = {}\n",
    "\n",
    "original = {'Argentina': 'Buenos Aires', 'Chile': 'Santiago', 'Uruguay': 'Montevideo'}\n",
    "print(f\"Original: {original}\")\n",
    "cant = len(original) # cantidad que usaremos para iterar\n",
    "\n",
    "keys = list(original.keys())\n",
    "values = list(original.values()) # Convertimos claves y valores a listas independientes\n",
    "\n",
    "for i in range(cant):\n",
    "    invertido[values[i]] = keys[i] # con el iterador asignamos a el dic. invertido los datos de value a keys y viceversa, armando el nuevo diccionario\n",
    "\n",
    "print(f\"Invertido: {invertido}\")\n",
    "\n"
   ]
  }
 ],
 "metadata": {
  "kernelspec": {
   "display_name": "Python 3",
   "language": "python",
   "name": "python3"
  },
  "language_info": {
   "codemirror_mode": {
    "name": "ipython",
    "version": 3
   },
   "file_extension": ".py",
   "mimetype": "text/x-python",
   "name": "python",
   "nbconvert_exporter": "python",
   "pygments_lexer": "ipython3",
   "version": "3.13.5"
  }
 },
 "nbformat": 4,
 "nbformat_minor": 5
}
